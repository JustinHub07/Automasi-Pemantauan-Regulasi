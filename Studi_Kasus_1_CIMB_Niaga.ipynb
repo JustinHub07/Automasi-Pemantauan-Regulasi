{
  "nbformat": 4,
  "nbformat_minor": 0,
  "metadata": {
    "colab": {
      "provenance": []
    },
    "kernelspec": {
      "name": "python3",
      "display_name": "Python 3"
    },
    "language_info": {
      "name": "python"
    }
  },
  "cells": [
    {
      "cell_type": "code",
      "source": [
        "import requests\n",
        "from bs4 import BeautifulSoup\n",
        "import pandas as pd\n",
        "\n",
        "def scrape_ojk_regulations_with_links():\n",
        "    base_url = \"https://www.ojk.go.id/id/Regulasi/Default.aspx\"\n",
        "    #base_url = \"https://lps.go.id/plps/\"\n",
        "    data = []\n",
        "\n",
        "    for page in range(1, 4):  # Loop untuk 3 halaman\n",
        "        url = f\"{base_url}?page={page}\"  # Perbaiki URL dengan format dinamis\n",
        "        response = requests.get(url)\n",
        "\n",
        "        # Pastikan respons valid\n",
        "        if response.status_code != 200:\n",
        "            print(f\"Gagal mengakses halaman {page}: {response.status_code}\")\n",
        "            continue\n",
        "\n",
        "        soup = BeautifulSoup(response.text, 'html.parser')\n",
        "\n",
        "        # Temukan tabel berdasarkan kelas\n",
        "        table = soup.find('table', {'class': 'table table-bordered table-styled'})\n",
        "        if not table:\n",
        "            print(f\"Tabel tidak ditemukan di halaman {page}.\")\n",
        "            continue\n",
        "\n",
        "        rows = table.find_all('tr')\n",
        "        for row in rows[1:]:  # Lewati header\n",
        "            cols = row.find_all('td')\n",
        "            if len(cols) >= 2:\n",
        "                # Ambil link dan caption dari elemen <a> dan elemen lainnya\n",
        "                link_tag = cols[1].find('a')\n",
        "                link = link_tag['href'] if link_tag else None\n",
        "                caption_tag = cols[1].find('div', class_='caption')\n",
        "                caption = caption_tag.text.strip() if caption_tag else None\n",
        "\n",
        "                # Tambahkan data ke dalam list\n",
        "                data.append({\n",
        "                    'Nomor Regulasi': cols[0].text.strip(),\n",
        "                    'Judul Regulasi': cols[1].text.strip(),\n",
        "                    'Link': link,\n",
        "                    'Caption': caption\n",
        "                })\n",
        "\n",
        "    # Konversi hasil ke DataFrame\n",
        "    return pd.DataFrame(data)\n",
        "\n",
        "# Eksekusi\n",
        "regulations = scrape_ojk_regulations_with_links()\n",
        "print(regulations)\n"
      ],
      "metadata": {
        "colab": {
          "base_uri": "https://localhost:8080/"
        },
        "id": "_W_zxxlyipB_",
        "outputId": "61d3044c-10ec-410f-e3f3-643ed80e32ca"
      },
      "execution_count": 2,
      "outputs": [
        {
          "output_type": "stream",
          "name": "stdout",
          "text": [
            "      Nomor Regulasi                                     Judul Regulasi  \\\n",
            "0      21 Tahun 2024  Laporan Berkala Dana Pensiun\\n\\n\\r\\n          ...   \n",
            "1   20/SEOJK.07/2024  Penyelenggaraan Perdagangan Aset Keuangan Digi...   \n",
            "2      27 Tahun 2024  Penyelenggaraan Perdagangan Aset Keuangan Digi...   \n",
            "3      23 Tahun 2024  Pelaporan Melalui Sistem Pelaporan Otoritas Ja...   \n",
            "4      22 Tahun 2024  Laporan Berkala Perusahaan Perasuransian\\n\\n\\r...   \n",
            "5      26 Tahun 2024  Perluasan Kegiatan Usaha Perbankan\\n\\n\\r\\n    ...   \n",
            "6   18/SEOJK.08/2024  Penilaian Sendiri Terhadap Pemenuhan Ketentuan...   \n",
            "7   16/SEOJK.03/2024  Pelaporan Melalui Sistem Pelaporan Otoritas Ja...   \n",
            "8      25 Tahun 2024  Penerapan Tata Kelola Syariah Bagi Bank Pereko...   \n",
            "9      24 Tahun 2024  Kualitas Aset Bank Perekonomian Rakyat Syariah...   \n",
            "10     21 Tahun 2024  Laporan Berkala Dana Pensiun\\n\\n\\r\\n          ...   \n",
            "11  20/SEOJK.07/2024  Penyelenggaraan Perdagangan Aset Keuangan Digi...   \n",
            "12     27 Tahun 2024  Penyelenggaraan Perdagangan Aset Keuangan Digi...   \n",
            "13     23 Tahun 2024  Pelaporan Melalui Sistem Pelaporan Otoritas Ja...   \n",
            "14     22 Tahun 2024  Laporan Berkala Perusahaan Perasuransian\\n\\n\\r...   \n",
            "15     26 Tahun 2024  Perluasan Kegiatan Usaha Perbankan\\n\\n\\r\\n    ...   \n",
            "16  18/SEOJK.08/2024  Penilaian Sendiri Terhadap Pemenuhan Ketentuan...   \n",
            "17  16/SEOJK.03/2024  Pelaporan Melalui Sistem Pelaporan Otoritas Ja...   \n",
            "18     25 Tahun 2024  Penerapan Tata Kelola Syariah Bagi Bank Pereko...   \n",
            "19     24 Tahun 2024  Kualitas Aset Bank Perekonomian Rakyat Syariah...   \n",
            "20     21 Tahun 2024  Laporan Berkala Dana Pensiun\\n\\n\\r\\n          ...   \n",
            "21  20/SEOJK.07/2024  Penyelenggaraan Perdagangan Aset Keuangan Digi...   \n",
            "22     27 Tahun 2024  Penyelenggaraan Perdagangan Aset Keuangan Digi...   \n",
            "23     23 Tahun 2024  Pelaporan Melalui Sistem Pelaporan Otoritas Ja...   \n",
            "24     22 Tahun 2024  Laporan Berkala Perusahaan Perasuransian\\n\\n\\r...   \n",
            "25     26 Tahun 2024  Perluasan Kegiatan Usaha Perbankan\\n\\n\\r\\n    ...   \n",
            "26  18/SEOJK.08/2024  Penilaian Sendiri Terhadap Pemenuhan Ketentuan...   \n",
            "27  16/SEOJK.03/2024  Pelaporan Melalui Sistem Pelaporan Otoritas Ja...   \n",
            "28     25 Tahun 2024  Penerapan Tata Kelola Syariah Bagi Bank Pereko...   \n",
            "29     24 Tahun 2024  Kualitas Aset Bank Perekonomian Rakyat Syariah...   \n",
            "\n",
            "                                                 Link  \\\n",
            "0   /id/regulasi/Pages/POJK-21-Tahun-2024-Laporan-...   \n",
            "1   /id/regulasi/Pages/SEOJK-20-SEOJK07-2024-Penye...   \n",
            "2         /id/regulasi/Pages/POJK-27-2024-AKD-AK.aspx   \n",
            "3   /id/regulasi/Pages/POJK-23-Tahun-2024-Pelapora...   \n",
            "4   /id/regulasi/Pages/POJK-22-Tahun-2024-Laporan-...   \n",
            "5   /id/regulasi/Pages/POJK-26-Tahun-2024-Perluasa...   \n",
            "6   /id/regulasi/Pages/SEOJK-18-SEOJK08-2024-Penil...   \n",
            "7   /id/regulasi/Pages/SEOJK-16-SEOJK.03-2024-Pela...   \n",
            "8   /id/regulasi/Pages/POJK-25-Tahun-2024-Penerapa...   \n",
            "9   /id/regulasi/Pages/POJK-24-Tahun-2024-Kualitas...   \n",
            "10  /id/regulasi/Pages/POJK-21-Tahun-2024-Laporan-...   \n",
            "11  /id/regulasi/Pages/SEOJK-20-SEOJK07-2024-Penye...   \n",
            "12        /id/regulasi/Pages/POJK-27-2024-AKD-AK.aspx   \n",
            "13  /id/regulasi/Pages/POJK-23-Tahun-2024-Pelapora...   \n",
            "14  /id/regulasi/Pages/POJK-22-Tahun-2024-Laporan-...   \n",
            "15  /id/regulasi/Pages/POJK-26-Tahun-2024-Perluasa...   \n",
            "16  /id/regulasi/Pages/SEOJK-18-SEOJK08-2024-Penil...   \n",
            "17  /id/regulasi/Pages/SEOJK-16-SEOJK.03-2024-Pela...   \n",
            "18  /id/regulasi/Pages/POJK-25-Tahun-2024-Penerapa...   \n",
            "19  /id/regulasi/Pages/POJK-24-Tahun-2024-Kualitas...   \n",
            "20  /id/regulasi/Pages/POJK-21-Tahun-2024-Laporan-...   \n",
            "21  /id/regulasi/Pages/SEOJK-20-SEOJK07-2024-Penye...   \n",
            "22        /id/regulasi/Pages/POJK-27-2024-AKD-AK.aspx   \n",
            "23  /id/regulasi/Pages/POJK-23-Tahun-2024-Pelapora...   \n",
            "24  /id/regulasi/Pages/POJK-22-Tahun-2024-Laporan-...   \n",
            "25  /id/regulasi/Pages/POJK-26-Tahun-2024-Perluasa...   \n",
            "26  /id/regulasi/Pages/SEOJK-18-SEOJK08-2024-Penil...   \n",
            "27  /id/regulasi/Pages/SEOJK-16-SEOJK.03-2024-Pela...   \n",
            "28  /id/regulasi/Pages/POJK-25-Tahun-2024-Penerapa...   \n",
            "29  /id/regulasi/Pages/POJK-24-Tahun-2024-Kualitas...   \n",
            "\n",
            "                                  Caption  \n",
            "0           Peraturan OJK • PPDP •   2025  \n",
            "1        Surat Edaran OJK • ITSK •   2025  \n",
            "2           Peraturan OJK • ITSK •   2025  \n",
            "3      Peraturan OJK • Perbankan •   2025  \n",
            "4           Peraturan OJK • PPDP •   2025  \n",
            "5      Peraturan OJK • Perbankan •   2024  \n",
            "6         Surat Edaran OJK • EPK •   2024  \n",
            "7   Surat Edaran OJK • Perbankan •   2024  \n",
            "8      Peraturan OJK • Perbankan •   2024  \n",
            "9      Peraturan OJK • Perbankan •   2024  \n",
            "10          Peraturan OJK • PPDP •   2025  \n",
            "11       Surat Edaran OJK • ITSK •   2025  \n",
            "12          Peraturan OJK • ITSK •   2025  \n",
            "13     Peraturan OJK • Perbankan •   2025  \n",
            "14          Peraturan OJK • PPDP •   2025  \n",
            "15     Peraturan OJK • Perbankan •   2024  \n",
            "16        Surat Edaran OJK • EPK •   2024  \n",
            "17  Surat Edaran OJK • Perbankan •   2024  \n",
            "18     Peraturan OJK • Perbankan •   2024  \n",
            "19     Peraturan OJK • Perbankan •   2024  \n",
            "20          Peraturan OJK • PPDP •   2025  \n",
            "21       Surat Edaran OJK • ITSK •   2025  \n",
            "22          Peraturan OJK • ITSK •   2025  \n",
            "23     Peraturan OJK • Perbankan •   2025  \n",
            "24          Peraturan OJK • PPDP •   2025  \n",
            "25     Peraturan OJK • Perbankan •   2024  \n",
            "26        Surat Edaran OJK • EPK •   2024  \n",
            "27  Surat Edaran OJK • Perbankan •   2024  \n",
            "28     Peraturan OJK • Perbankan •   2024  \n",
            "29     Peraturan OJK • Perbankan •   2024  \n"
          ]
        }
      ]
    },
    {
      "cell_type": "code",
      "source": [
        "from datetime import datetime\n",
        "\n",
        "def generate_report(new_regulations):\n",
        "    if new_regulations.empty:\n",
        "        print(\"Tidak ada regulasi baru untuk dilaporkan.\")\n",
        "        return\n",
        "\n",
        "    # Nama file laporan berdasarkan tanggal\n",
        "    filename = f\"report_regulasi_{datetime.now().strftime('%Y%m%d')}.xlsx\"\n",
        "\n",
        "    # Simpan DataFrame sebagai file Excel\n",
        "    new_regulations.to_excel(filename, index=False, engine='openpyxl')\n",
        "    print(f\"Laporan berhasil disimpan sebagai {filename}\")"
      ],
      "metadata": {
        "id": "x2dCpkX8H_KD"
      },
      "execution_count": 3,
      "outputs": []
    },
    {
      "cell_type": "code",
      "source": [
        "generate_report(regulations)"
      ],
      "metadata": {
        "colab": {
          "base_uri": "https://localhost:8080/"
        },
        "id": "_Q4E1LNWlDGi",
        "outputId": "8b8261e8-e852-4c5d-da3c-71d987e3ba13"
      },
      "execution_count": 4,
      "outputs": [
        {
          "output_type": "stream",
          "name": "stdout",
          "text": [
            "Laporan berhasil disimpan sebagai report_regulasi_20250103.xlsx\n"
          ]
        }
      ]
    },
    {
      "cell_type": "code",
      "source": [
        "import sqlite3\n",
        "\n",
        "def save_to_database(df, db_name=\"regulations.db\"):\n",
        "    conn = sqlite3.connect(db_name)\n",
        "    df.to_sql('ojk_regulations', conn, if_exists='replace', index=False)\n",
        "    conn.close()\n",
        "\n",
        "def compare_with_old_data(new_df, db_name=\"regulations.db\"):\n",
        "    conn = sqlite3.connect(db_name)\n",
        "    old_df = pd.read_sql('SELECT * FROM ojk_regulations', conn)\n",
        "    conn.close()\n",
        "\n",
        "    new_regulations = pd.merge(new_df, old_df, how='outer', indicator=True)\n",
        "    return new_regulations[new_regulations['_merge'] == 'left_only']"
      ],
      "metadata": {
        "id": "RQiSiZ6F3h56"
      },
      "execution_count": 5,
      "outputs": []
    },
    {
      "cell_type": "code",
      "source": [
        "save_to_database(regulations)"
      ],
      "metadata": {
        "id": "L8GjjGT0G085"
      },
      "execution_count": 6,
      "outputs": []
    },
    {
      "cell_type": "code",
      "source": [
        "new_regulations = compare_with_old_data(regulations)"
      ],
      "metadata": {
        "id": "Lg7NzN2_G0_D"
      },
      "execution_count": 7,
      "outputs": []
    },
    {
      "cell_type": "code",
      "source": [
        "print(new_regulations)"
      ],
      "metadata": {
        "colab": {
          "base_uri": "https://localhost:8080/"
        },
        "id": "47odTRYvG7Za",
        "outputId": "40b22452-d209-4812-9421-1902f3da80e4"
      },
      "execution_count": 8,
      "outputs": [
        {
          "output_type": "stream",
          "name": "stdout",
          "text": [
            "Empty DataFrame\n",
            "Columns: [Nomor Regulasi, Judul Regulasi, Link, Caption, _merge]\n",
            "Index: []\n"
          ]
        }
      ]
    },
    {
      "cell_type": "code",
      "source": [
        "pip install schedule"
      ],
      "metadata": {
        "colab": {
          "base_uri": "https://localhost:8080/"
        },
        "id": "H_7m_oUJ_lKJ",
        "outputId": "4171f056-a8c0-4444-8fd6-7c38e5f1ffb4"
      },
      "execution_count": 9,
      "outputs": [
        {
          "output_type": "stream",
          "name": "stdout",
          "text": [
            "Collecting schedule\n",
            "  Downloading schedule-1.2.2-py3-none-any.whl.metadata (3.8 kB)\n",
            "Downloading schedule-1.2.2-py3-none-any.whl (12 kB)\n",
            "Installing collected packages: schedule\n",
            "Successfully installed schedule-1.2.2\n"
          ]
        }
      ]
    },
    {
      "cell_type": "code",
      "source": [
        "import smtplib\n",
        "from email.mime.text import MIMEText\n",
        "\n",
        "def send_email_notification(new_regulations):\n",
        "    smtp_server = \"smtp.gmail.com\"\n",
        "    port = 587\n",
        "    sender_email = \"justinus.natanael@gmail.com\"\n",
        "    password = \"bmjc ywtw ocnb svbi\"\n",
        "\n",
        "    message = MIMEText(new_regulations.to_html(), 'html')\n",
        "    message['Subject'] = \"Notifikasi Regulasi Baru\"\n",
        "    message['From'] = sender_email\n",
        "    message['To'] = \"justinus.nathanael@gmail.com\"\n",
        "    #message['To'] = \"Reyhan.Prasetyo@cimbniaga.co.id\"\n",
        "\n",
        "\n",
        "    with smtplib.SMTP(smtp_server, port) as server:\n",
        "        server.starttls()\n",
        "        server.login(sender_email, password)\n",
        "        server.send_message(message)\n",
        "\n",
        "\n",
        "new_regulations = compare_with_old_data(regulations)\n",
        "\n",
        "if not new_regulations.empty:\n",
        "    send_email_notification(new_regulations)"
      ],
      "metadata": {
        "id": "Ek_iDVSJ_gVB"
      },
      "execution_count": 10,
      "outputs": []
    },
    {
      "cell_type": "code",
      "source": [
        "generate_report(new_regulations)"
      ],
      "metadata": {
        "colab": {
          "base_uri": "https://localhost:8080/"
        },
        "id": "5yz0S6PeIRiQ",
        "outputId": "decc0358-73ca-4692-ec39-1c9d7fcce366"
      },
      "execution_count": 11,
      "outputs": [
        {
          "output_type": "stream",
          "name": "stdout",
          "text": [
            "Tidak ada regulasi baru untuk dilaporkan.\n"
          ]
        }
      ]
    },
    {
      "cell_type": "code",
      "source": [
        "import requests\n",
        "from bs4 import BeautifulSoup\n",
        "import os\n",
        "\n",
        "def extract_documents(base_url, page_url):\n",
        "    response = requests.get(page_url)\n",
        "    soup = BeautifulSoup(response.text, 'html.parser')\n",
        "\n",
        "    # Cari semua link dokumen di halaman\n",
        "    document_links = []\n",
        "    for link in soup.find_all('a', href=True):\n",
        "        href = link['href']\n",
        "        if href.endswith(('.pdf', '.doc', '.docx')):  # Filter file dokumen\n",
        "            full_url = base_url + href if not href.startswith('http') else href\n",
        "            document_links.append(full_url)\n",
        "\n",
        "    # Unduh dokumen\n",
        "    os.makedirs('downloaded_documents', exist_ok=True)\n",
        "    for doc_url in document_links:\n",
        "        try:\n",
        "            response = requests.get(doc_url)\n",
        "            filename = os.path.join('downloaded_documents', doc_url.split('/')[-1])\n",
        "            with open(filename, 'wb') as f:\n",
        "                f.write(response.content)\n",
        "            print(f\"Dokumen disimpan: {filename}\")\n",
        "        except Exception as e:\n",
        "            print(f\"Gagal mengunduh {doc_url}: {e}\")\n",
        "\n",
        "# Contoh penggunaan\n",
        "base_url = \"https://ojk.go.id\"\n",
        "page_url = \"https://ojk.go.id/id/regulasi/Pages/Asosiasi-Penyelenggara-Inovasi-Teknologi-Sektor-Keuangan.aspx\"\n",
        "extract_documents(base_url, page_url)\n"
      ],
      "metadata": {
        "colab": {
          "base_uri": "https://localhost:8080/"
        },
        "id": "wOYgLbkG9UPQ",
        "outputId": "329b4499-f434-4fb8-d42f-81bf1d8c1e3f"
      },
      "execution_count": 12,
      "outputs": [
        {
          "output_type": "stream",
          "name": "stdout",
          "text": [
            "Dokumen disimpan: downloaded_documents/SEOJK%208-SEOJK.07-2024%20Asosiasi%20Penyelenggara%20Inovasi%20Teknologi%20Sektor%20Keuangan.pdf\n",
            "Dokumen disimpan: downloaded_documents/Abstrak%20SEOJK%208-SEOJK.07-2024%20Asosiasi%20Penyelenggara%20Inovasi%20Teknologi%20Sektor%20Keuangan.pdf\n",
            "Dokumen disimpan: downloaded_documents/FAQ%20SEOJK%208-SEOJK.07-2024%20Asosiasi%20Penyelenggara%20Inovasi%20Teknologi%20Sektor%20Keuangan.pdf\n"
          ]
        }
      ]
    },
    {
      "cell_type": "code",
      "source": [
        "import schedule\n",
        "import time\n",
        "from datetime import datetime\n",
        "import pandas as pd\n",
        "import smtplib\n",
        "from email.mime.multipart import MIMEMultipart\n",
        "from email.mime.base import MIMEBase\n",
        "from email import encoders\n",
        "\n",
        "\n",
        "# Fungsi untuk mengirim laporan melalui email\n",
        "def send_report_via_email(frequency, df):\n",
        "    filename = generate_report(df, frequency)\n",
        "    smtp_server = \"smtp.gmail.com\"\n",
        "    port = 587\n",
        "    sender_email = \"justinus.natanael@gmail.com\"\n",
        "    password = \"bmjc ywtw ocnb svbi\"\n",
        "\n",
        "    message = MIMEMultipart()\n",
        "    message['Subject'] = f\"Laporan Regulasi {frequency.capitalize()}\"\n",
        "    message['From'] = sender_email\n",
        "    message['To'] = \"justinus.nathanael@gmail.com\"\n",
        "    #message['To'] = \"Reyhan.Prasetyo@cimbniaga.co.id\"\n",
        "\n",
        "        # Tambahkan lampiran\n",
        "    with open(filename, \"rb\") as attachment:\n",
        "        part = MIMEBase(\"application\", \"octet-stream\")\n",
        "        part.set_payload(attachment.read())\n",
        "    encoders.encode_base64(part)\n",
        "    part.add_header(\"Content-Disposition\", f\"attachment; filename={filename}\")\n",
        "    message.attach(part)\n",
        "\n",
        "    with smtplib.SMTP(smtp_server, port) as server:\n",
        "        server.starttls()\n",
        "        server.login(sender_email, password)\n",
        "        server.send_message(message)\n",
        "    print(f\"Laporan {frequency} telah dikirimkan melalui email.\")\n",
        "\n",
        "def send_annual_report_if_new_year(data):\n",
        "    from datetime import datetime\n",
        "    if datetime.now().strftime(\"%m-%d\") == \"01-01\":\n",
        "        send_report_via_email(\"tahunan\", data)\n",
        "\n",
        "data = 'report_regulasi_20250103.xslx'\n",
        "\n",
        "# Jadwalkan pengiriman laporan\n",
        "schedule.every().day.at(\"18:00\").do(send_report_via_email, \"harian\", data)  # Harian\n",
        "schedule.every().monday.at(\"18:00\").do(send_report_via_email, \"mingguan\", data)  # Mingguan\n",
        "schedule.every(1).to(31).days.at(\"18:00\").do(send_report_via_email, \"bulanan\", data) # Bulanan\n",
        "schedule.every().day.at(\"18:00\").do(lambda: send_annual_report_if_new_year(data)) # Tahunan\n",
        "\n",
        "\n",
        "# Jalankan penjadwalan\n",
        "while True:\n",
        "    schedule.run_pending()\n",
        "    time.sleep(60)\n"
      ],
      "metadata": {
        "colab": {
          "base_uri": "https://localhost:8080/",
          "height": 176
        },
        "id": "k7T3Ksxl878W",
        "outputId": "88951bc4-f51a-4d02-8c65-f1b8e0299e8b"
      },
      "execution_count": 13,
      "outputs": [
        {
          "output_type": "error",
          "ename": "KeyboardInterrupt",
          "evalue": "",
          "traceback": [
            "\u001b[0;31m---------------------------------------------------------------------------\u001b[0m",
            "\u001b[0;31mKeyboardInterrupt\u001b[0m                         Traceback (most recent call last)",
            "\u001b[0;32m<ipython-input-13-4c1e98494e0c>\u001b[0m in \u001b[0;36m<cell line: 54>\u001b[0;34m()\u001b[0m\n\u001b[1;32m     54\u001b[0m \u001b[0;32mwhile\u001b[0m \u001b[0;32mTrue\u001b[0m\u001b[0;34m:\u001b[0m\u001b[0;34m\u001b[0m\u001b[0;34m\u001b[0m\u001b[0m\n\u001b[1;32m     55\u001b[0m     \u001b[0mschedule\u001b[0m\u001b[0;34m.\u001b[0m\u001b[0mrun_pending\u001b[0m\u001b[0;34m(\u001b[0m\u001b[0;34m)\u001b[0m\u001b[0;34m\u001b[0m\u001b[0;34m\u001b[0m\u001b[0m\n\u001b[0;32m---> 56\u001b[0;31m     \u001b[0mtime\u001b[0m\u001b[0;34m.\u001b[0m\u001b[0msleep\u001b[0m\u001b[0;34m(\u001b[0m\u001b[0;36m60\u001b[0m\u001b[0;34m)\u001b[0m\u001b[0;34m\u001b[0m\u001b[0;34m\u001b[0m\u001b[0m\n\u001b[0m",
            "\u001b[0;31mKeyboardInterrupt\u001b[0m: "
          ]
        }
      ]
    },
    {
      "cell_type": "code",
      "source": [
        "import schedule\n",
        "import time\n",
        "from datetime import datetime\n",
        "\n",
        "# Fungsi untuk memeriksa apakah hari ini adalah hari kerja\n",
        "\n",
        "def is_friday():\n",
        "  f\"report_{frequency}_{datetime.now().strftime('%Y%m%d')}.xlsx\"\n",
        "  today = datetime.now().weekday()\n",
        "  return today == 4  # 4 = Friday\n",
        "\n",
        "def send_report_via_email(frequency, df):\n",
        "    filename = generate_report(df, frequency)\n",
        "    smtp_server = \"smtp.gmail.com\"\n",
        "    port = 587\n",
        "    sender_email = \"justinus.natanael@gmail.com\"\n",
        "    password = \"bmjc ywtw ocnb svbi\"\n",
        "\n",
        "    message = MIMEText(new_regulations.to_html(), 'html')\n",
        "    message['Subject'] = \"Notifikasi Regulasi Baru\"\n",
        "    message['From'] = sender_email\n",
        "    message['To'] = \"justinus.nathanael@gmail.com\"\n",
        "    #message['To'] = \"Reyhan.Prasetyo@cimbniaga.co.id\"\n",
        "\n",
        "\n",
        "    with smtplib.SMTP(smtp_server, port) as server:\n",
        "        server.starttls()\n",
        "        server.login(sender_email, password)\n",
        "        server.send_message(message)\n",
        "    print(f\"Laporan {frequency} telah dikirimkan melalui email.\")\n",
        "\n",
        "def scrape_and_send_report():\n",
        "    if is_friday():\n",
        "        print(\"Hari Jumat, menjalankan scraping dan mengirim laporan...\")\n",
        "        regulations = scrape_ojk_regulations()\n",
        "        send_email_report(regulations)\n",
        "    else:\n",
        "        print(\"Bukan hari Jumat, tidak mengirim laporan.\")\n",
        "\n",
        "# Jadwalkan setiap 30 menit\n",
        "schedule.every(30).minutes.do(scrape_ojk_regulations_with_links)\n",
        "schedule.every().day.at(\"17:00\").do(send_report_via_email)\n",
        "\n",
        "while True:\n",
        "    schedule.run_pending()\n",
        "    time.sleep(1)"
      ],
      "metadata": {
        "colab": {
          "base_uri": "https://localhost:8080/",
          "height": 176
        },
        "id": "jlNC5zII_cdM",
        "outputId": "71280967-7c2e-46df-ba97-9b76e359f31f"
      },
      "execution_count": 14,
      "outputs": [
        {
          "output_type": "error",
          "ename": "KeyboardInterrupt",
          "evalue": "",
          "traceback": [
            "\u001b[0;31m---------------------------------------------------------------------------\u001b[0m",
            "\u001b[0;31mKeyboardInterrupt\u001b[0m                         Traceback (most recent call last)",
            "\u001b[0;32m<ipython-input-14-b9c6893e86e1>\u001b[0m in \u001b[0;36m<cell line: 44>\u001b[0;34m()\u001b[0m\n\u001b[1;32m     44\u001b[0m \u001b[0;32mwhile\u001b[0m \u001b[0;32mTrue\u001b[0m\u001b[0;34m:\u001b[0m\u001b[0;34m\u001b[0m\u001b[0;34m\u001b[0m\u001b[0m\n\u001b[1;32m     45\u001b[0m     \u001b[0mschedule\u001b[0m\u001b[0;34m.\u001b[0m\u001b[0mrun_pending\u001b[0m\u001b[0;34m(\u001b[0m\u001b[0;34m)\u001b[0m\u001b[0;34m\u001b[0m\u001b[0;34m\u001b[0m\u001b[0m\n\u001b[0;32m---> 46\u001b[0;31m     \u001b[0mtime\u001b[0m\u001b[0;34m.\u001b[0m\u001b[0msleep\u001b[0m\u001b[0;34m(\u001b[0m\u001b[0;36m1\u001b[0m\u001b[0;34m)\u001b[0m\u001b[0;34m\u001b[0m\u001b[0;34m\u001b[0m\u001b[0m\n\u001b[0m",
            "\u001b[0;31mKeyboardInterrupt\u001b[0m: "
          ]
        }
      ]
    }
  ]
}